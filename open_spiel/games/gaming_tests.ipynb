{
 "cells": [
  {
   "cell_type": "code",
   "execution_count": 1,
   "metadata": {},
   "outputs": [],
   "source": [
    "import itertools\n",
    "import numpy as np\n",
    "import math\n",
    "import random"
   ]
  },
  {
   "cell_type": "code",
   "execution_count": 2,
   "metadata": {},
   "outputs": [
    {
     "name": "stderr",
     "output_type": "stream",
     "text": [
      "2022-04-04 20:15:35,644 - __main__ - DEBUG - debug message\n",
      "2022-04-04 20:15:35,647 - __main__ - INFO - info message\n",
      "2022-04-04 20:15:35,648 - __main__ - WARNING - warn message\n",
      "2022-04-04 20:15:35,649 - __main__ - ERROR - error message\n",
      "2022-04-04 20:15:35,650 - __main__ - CRITICAL - critical message\n"
     ]
    }
   ],
   "source": [
    "import logging\n",
    "\n",
    "# create logger\n",
    "logger = logging.getLogger(__name__)\n",
    "# set log level for all handlers to debug\n",
    "logger.setLevel(logging.DEBUG)\n",
    "\n",
    "# create console handler and set level to debug\n",
    "# best for development or debugging\n",
    "consoleHandler = logging.StreamHandler()\n",
    "consoleHandler.setLevel(logging.DEBUG)\n",
    "\n",
    "# create formatter\n",
    "formatter = logging.Formatter('%(asctime)s - %(name)s - %(levelname)s - %(message)s')\n",
    "\n",
    "# add formatter to ch\n",
    "consoleHandler.setFormatter(formatter)\n",
    "\n",
    "# add ch to logger\n",
    "logger.addHandler(consoleHandler)\n",
    "\n",
    "###################\n",
    "# USE LOGGER\n",
    "###################\n",
    "\n",
    "# example usage\n",
    "logger.debug('debug message')\n",
    "logger.info('info message')\n",
    "logger.warning('warn message')\n",
    "logger.error('error message')\n",
    "logger.critical('critical message')"
   ]
  },
  {
   "cell_type": "code",
   "execution_count": 3,
   "metadata": {},
   "outputs": [
    {
     "ename": "AttributeError",
     "evalue": "'numpy.ndarray' object has no attribute 'to_list'",
     "output_type": "error",
     "traceback": [
      "\u001b[0;31m---------------------------------------------------------------------------\u001b[0m",
      "\u001b[0;31mAttributeError\u001b[0m                            Traceback (most recent call last)",
      "\u001b[1;32m/home/kirill/myspiel/open_spiel/games/gaming_tests.ipynb Cell 3'\u001b[0m in \u001b[0;36m<cell line: 1>\u001b[0;34m()\u001b[0m\n\u001b[0;32m----> <a href='vscode-notebook-cell://wsl%2Bubuntu/home/kirill/myspiel/open_spiel/games/gaming_tests.ipynb#ch0000002vscode-remote?line=0'>1</a>\u001b[0m cards \u001b[39m=\u001b[39m \u001b[39mlist\u001b[39m(np\u001b[39m.\u001b[39;49marange(\u001b[39m8\u001b[39;49m)\u001b[39m.\u001b[39;49mto_list())\n\u001b[1;32m      <a href='vscode-notebook-cell://wsl%2Bubuntu/home/kirill/myspiel/open_spiel/games/gaming_tests.ipynb#ch0000002vscode-remote?line=1'>2</a>\u001b[0m \u001b[39mprint\u001b[39m(cards)\n",
      "\u001b[0;31mAttributeError\u001b[0m: 'numpy.ndarray' object has no attribute 'to_list'"
     ]
    }
   ],
   "source": [
    "cards = list(np.arange(8).to_list())\n",
    "print(cards)"
   ]
  },
  {
   "cell_type": "code",
   "execution_count": 4,
   "metadata": {},
   "outputs": [],
   "source": [
    "hand_size = 3\n",
    "total_cards = 8"
   ]
  },
  {
   "cell_type": "code",
   "execution_count": 5,
   "metadata": {},
   "outputs": [
    {
     "data": {
      "text/plain": [
       "560"
      ]
     },
     "execution_count": 5,
     "metadata": {},
     "output_type": "execute_result"
    }
   ],
   "source": [
    "c85 = math.comb(total_cards,hand_size)\n",
    "c53 = math.comb(total_cards - hand_size,hand_size)\n",
    "total_combinations = c85*c53\n",
    "total_combinations"
   ]
  },
  {
   "cell_type": "code",
   "execution_count": 6,
   "metadata": {},
   "outputs": [
    {
     "ename": "NameError",
     "evalue": "name 'cards' is not defined",
     "output_type": "error",
     "traceback": [
      "\u001b[0;31m---------------------------------------------------------------------------\u001b[0m",
      "\u001b[0;31mNameError\u001b[0m                                 Traceback (most recent call last)",
      "\u001b[1;32m/home/kirill/myspiel/open_spiel/games/gaming_tests.ipynb Cell 6'\u001b[0m in \u001b[0;36m<cell line: 1>\u001b[0;34m()\u001b[0m\n\u001b[0;32m----> <a href='vscode-notebook-cell://wsl%2Bubuntu/home/kirill/myspiel/open_spiel/games/gaming_tests.ipynb#ch0000005vscode-remote?line=0'>1</a>\u001b[0m first_hands \u001b[39m=\u001b[39m itertools\u001b[39m.\u001b[39mcombinations(cards,\u001b[39m3\u001b[39m)\n\u001b[1;32m      <a href='vscode-notebook-cell://wsl%2Bubuntu/home/kirill/myspiel/open_spiel/games/gaming_tests.ipynb#ch0000005vscode-remote?line=1'>2</a>\u001b[0m list_first_hand \u001b[39m=\u001b[39m \u001b[39mlist\u001b[39m(first_hands)\n\u001b[1;32m      <a href='vscode-notebook-cell://wsl%2Bubuntu/home/kirill/myspiel/open_spiel/games/gaming_tests.ipynb#ch0000005vscode-remote?line=2'>3</a>\u001b[0m \u001b[39mprint\u001b[39m(list_first_hand)\n",
      "\u001b[0;31mNameError\u001b[0m: name 'cards' is not defined"
     ]
    }
   ],
   "source": [
    "first_hands = itertools.combinations(cards,3)\n",
    "list_first_hand = list(first_hands)\n",
    "print(list_first_hand)\n",
    "print(len(list_first_hand))\n"
   ]
  },
  {
   "cell_type": "code",
   "execution_count": 7,
   "metadata": {},
   "outputs": [],
   "source": [
    "def get_second_hands(one_first_hand):\n",
    "    cards_left = [item for item in cards if item not in one_first_hand]\n",
    "    second_hands = itertools.combinations(cards_left,3)\n",
    "    return second_hands"
   ]
  },
  {
   "cell_type": "code",
   "execution_count": 8,
   "metadata": {},
   "outputs": [
    {
     "ename": "NameError",
     "evalue": "name 'list_first_hand' is not defined",
     "output_type": "error",
     "traceback": [
      "\u001b[0;31m---------------------------------------------------------------------------\u001b[0m",
      "\u001b[0;31mNameError\u001b[0m                                 Traceback (most recent call last)",
      "\u001b[1;32m/home/kirill/myspiel/open_spiel/games/gaming_tests.ipynb Cell 8'\u001b[0m in \u001b[0;36m<cell line: 1>\u001b[0;34m()\u001b[0m\n\u001b[0;32m----> <a href='vscode-notebook-cell://wsl%2Bubuntu/home/kirill/myspiel/open_spiel/games/gaming_tests.ipynb#ch0000007vscode-remote?line=0'>1</a>\u001b[0m f1 \u001b[39m=\u001b[39m list_first_hand[\u001b[39m0\u001b[39m]\n\u001b[1;32m      <a href='vscode-notebook-cell://wsl%2Bubuntu/home/kirill/myspiel/open_spiel/games/gaming_tests.ipynb#ch0000007vscode-remote?line=1'>2</a>\u001b[0m \u001b[39mprint\u001b[39m(f1)\n\u001b[1;32m      <a href='vscode-notebook-cell://wsl%2Bubuntu/home/kirill/myspiel/open_spiel/games/gaming_tests.ipynb#ch0000007vscode-remote?line=2'>3</a>\u001b[0m sh \u001b[39m=\u001b[39m \u001b[39mlist\u001b[39m(get_second_hands(f1))\n",
      "\u001b[0;31mNameError\u001b[0m: name 'list_first_hand' is not defined"
     ]
    }
   ],
   "source": [
    "f1 = list_first_hand[0]\n",
    "print(f1)\n",
    "sh = list(get_second_hands(f1))\n",
    "print(sh)"
   ]
  },
  {
   "cell_type": "code",
   "execution_count": 9,
   "metadata": {},
   "outputs": [
    {
     "ename": "NameError",
     "evalue": "name 'list_first_hand' is not defined",
     "output_type": "error",
     "traceback": [
      "\u001b[0;31m---------------------------------------------------------------------------\u001b[0m",
      "\u001b[0;31mNameError\u001b[0m                                 Traceback (most recent call last)",
      "\u001b[1;32m/home/kirill/myspiel/open_spiel/games/gaming_tests.ipynb Cell 9'\u001b[0m in \u001b[0;36m<cell line: 2>\u001b[0;34m()\u001b[0m\n\u001b[1;32m      <a href='vscode-notebook-cell://wsl%2Bubuntu/home/kirill/myspiel/open_spiel/games/gaming_tests.ipynb#ch0000008vscode-remote?line=0'>1</a>\u001b[0m all_deals \u001b[39m=\u001b[39m []\n\u001b[1;32m      <a href='vscode-notebook-cell://wsl%2Bubuntu/home/kirill/myspiel/open_spiel/games/gaming_tests.ipynb#ch0000008vscode-remote?line=1'>2</a>\u001b[0m \u001b[39mfor\u001b[39;00m i \u001b[39min\u001b[39;00m \u001b[39mrange\u001b[39m(c85):\n\u001b[0;32m----> <a href='vscode-notebook-cell://wsl%2Bubuntu/home/kirill/myspiel/open_spiel/games/gaming_tests.ipynb#ch0000008vscode-remote?line=2'>3</a>\u001b[0m     f1 \u001b[39m=\u001b[39m list_first_hand[i]\n\u001b[1;32m      <a href='vscode-notebook-cell://wsl%2Bubuntu/home/kirill/myspiel/open_spiel/games/gaming_tests.ipynb#ch0000008vscode-remote?line=3'>4</a>\u001b[0m     second_hands \u001b[39m=\u001b[39m \u001b[39mlist\u001b[39m(get_second_hands(f1))\n\u001b[1;32m      <a href='vscode-notebook-cell://wsl%2Bubuntu/home/kirill/myspiel/open_spiel/games/gaming_tests.ipynb#ch0000008vscode-remote?line=4'>5</a>\u001b[0m     \u001b[39mfor\u001b[39;00m j \u001b[39min\u001b[39;00m \u001b[39mrange\u001b[39m(c53):\n",
      "\u001b[0;31mNameError\u001b[0m: name 'list_first_hand' is not defined"
     ]
    }
   ],
   "source": [
    "all_deals = []\n",
    "for i in range(c85):\n",
    "    f1 = list_first_hand[i]\n",
    "    second_hands = list(get_second_hands(f1))\n",
    "    for j in range(c53):\n",
    "        s1 = second_hands[j]\n",
    "        tupl = (f1,s1)\n",
    "        all_deals.append(tupl)\n",
    "        print(tupl)\n",
    "print(len(all_deals))\n",
    "\n",
    "        \n",
    "    "
   ]
  },
  {
   "cell_type": "code",
   "execution_count": 10,
   "metadata": {},
   "outputs": [],
   "source": [
    "for d in all_deals:\n",
    "    if d[0] == (1,2,3) or d[1] == (1,2,3):\n",
    "        print(d)"
   ]
  },
  {
   "cell_type": "code",
   "execution_count": 28,
   "metadata": {},
   "outputs": [],
   "source": [
    "class Card():\n",
    "    def __init__(self, stat, ability,suit,side_num):\n",
    "        #self.priority = priority\n",
    "        self.stat = stat\n",
    "        self.is_dead = False\n",
    "        self.ability = ability\n",
    "        self.initial_stat = stat\n",
    "        self.suit = suit\n",
    "        self.swang_called = False\n",
    "        self.side_num = side_num\n",
    "\n",
    "    def take_damage(self,damage):\n",
    "        self.stat -= damage\n",
    "        if self.stat <= 0:\n",
    "            self.is_dead = True\n",
    "    \n",
    "    def debut(self,state,side_num):\n",
    "         self.ability.debut(state,side_num,self)\n",
    "\n",
    "    def perfomance(self,state,side_num):\n",
    "         self.ability.perfomance(state,side_num,self)\n",
    "\n",
    "\n",
    "    def swangsong(self,state,side_num):\n",
    "         if not self.swang_called:\n",
    "            self.swang_called = True\n",
    "            self.ability.swangsong(state,side_num,self)\n",
    "    \n",
    "    def __str__(self):\n",
    "        res = \"intial {}| current {}|suit {}| ability {}\".format(self.initial_stat,self.stat,self.suit, str(self.ability))\n",
    "        return res\n",
    "        "
   ]
  },
  {
   "cell_type": "code",
   "execution_count": 29,
   "metadata": {},
   "outputs": [],
   "source": [
    "class BasicAbility():\n",
    "    def __init__(self):\n",
    "        pass\n",
    "    \n",
    "    def debut(self,state,side_num,card):\n",
    "        side =  state.left_side if side_num ==0 else state.right_side\n",
    "        for card in side:\n",
    "           state.kill_card(card)\n",
    "        state.clean_up()\n",
    "        \n",
    "    def swangsong(self,state,side_num,card):\n",
    "        pass\n",
    "\n",
    "    def perfomance(self,state,side_num,card):\n",
    "        pass\n",
    "\n",
    "    def __str__(self):\n",
    "        res =  type(self).__name__\n",
    "        return res"
   ]
  },
  {
   "cell_type": "code",
   "execution_count": null,
   "metadata": {},
   "outputs": [],
   "source": [
    "class EaterAbility(BasicAbility):\n",
    "    def __init__(self):\n",
    "        pass\n",
    "    \n",
    "    def debut(self,state,side_num,card):\n",
    "        side =  state.left_side if side_num ==0 else state.right_side\n",
    "        for old_card in side:\n",
    "            if card.suit == old_card.suit:\n",
    "                card.stat+=old_card.stat\n",
    "            state.kill_card(old_card)\n",
    "        state.clean_up()\n",
    "        \n",
    "    def swangsong(self,state,side_num,card):\n",
    "        pass\n",
    "\n",
    "    def __str__(self):\n",
    "        res =  type(self).__name__\n",
    "        return res"
   ]
  },
  {
   "cell_type": "code",
   "execution_count": null,
   "metadata": {},
   "outputs": [],
   "source": [
    "class FighterAbility(BasicAbility):\n",
    "    def __init__(self):\n",
    "        pass\n",
    "\n",
    "    def perfomance(self,state,side_num,card):\n",
    "        side =  state.left_side if side_num ==1 else state.right_side\n",
    "        enemy = side[0]\n",
    "        if not enemy.suit==card.suit:\n",
    "            card.stat+=2  "
   ]
  },
  {
   "cell_type": "code",
   "execution_count": 50,
   "metadata": {},
   "outputs": [],
   "source": [
    "class MartyrdomAbility(BasicAbility):\n",
    "    def __init__(self):\n",
    "        super().__init__()\n",
    "    \n",
    "    def debut(self,state,side_num,card):\n",
    "        side =  state.left_side if side_num ==0 else state.right_side\n",
    "        for card in side:\n",
    "           state.kill_card(card)\n",
    "        state.clean_up()\n",
    "        \n",
    "        \n",
    "        \n",
    "    def swangsong(self,state,side_num,card):\n",
    "        side =  state.left_side if side_num ==1 else state.right_side\n",
    "        for card in side:\n",
    "           state.kill_card(card)\n",
    "        state.clean_up()\n",
    "\n",
    "    # def __str__(self):\n",
    "    #     return super().__str__()"
   ]
  },
  {
   "cell_type": "code",
   "execution_count": 51,
   "metadata": {},
   "outputs": [
    {
     "name": "stdout",
     "output_type": "stream",
     "text": [
      "MartyrdomAbility\n"
     ]
    }
   ],
   "source": [
    "m = MartyrdomAbility()\n",
    "print(m)"
   ]
  },
  {
   "cell_type": "code",
   "execution_count": 52,
   "metadata": {},
   "outputs": [],
   "source": [
    "class TokenAbility(BasicAbility):\n",
    "    def __init__(self):\n",
    "        pass\n",
    "    \n",
    "    def debut(self,state,side_num,card):\n",
    "        side =  state.left_side if side_num ==0 else state.right_side\n",
    "        for card in side:\n",
    "           state.kill_card(card)\n",
    "        state.clean_up()\n",
    "        \n",
    "        \n",
    "        \n",
    "    def swangsong(self,state,side_num,card):\n",
    "        side =  state.left_side if side_num ==0 else state.right_side\n",
    "        token = state.create_card(1,0,card.suit)\n",
    "        state.add_card(token,side_num)\n"
   ]
  },
  {
   "cell_type": "code",
   "execution_count": 53,
   "metadata": {},
   "outputs": [],
   "source": [
    "Ability_List = []\n",
    "Ability_List.append(BasicAbility())\n",
    "Ability_List.append(MartyrdomAbility())\n",
    "Ability_List.append(TokenAbility())\n",
    "Ability_List.append(EaterAbility())\n",
    "\n"
   ]
  },
  {
   "cell_type": "code",
   "execution_count": 54,
   "metadata": {},
   "outputs": [],
   "source": [
    "class BoardState():\n",
    "    def __init__(self):\n",
    "         self.left_side = []\n",
    "         self.right_side = []\n",
    "\n",
    "    def left_count(self):\n",
    "        return len(self.left_side)\n",
    "    \n",
    "    def right_count(self):\n",
    "        return len(self.right_side)\n",
    "         \n",
    "    @staticmethod\n",
    "    def create_card(stat, ability_num,suit):\n",
    "        #side =  self.left_side if side_num ==0 else self.right_side\n",
    "        card = Card(stat, Ability_List[ability_num],suit,0)\n",
    "        return card\n",
    "\n",
    "        \n",
    "    def add_card(self,card,side_num):\n",
    "        side =  self.left_side if side_num ==0 else self.right_side\n",
    "        card.side_num = side_num\n",
    "        card.debut(self,side_num)\n",
    "        side.append(card)\n",
    "\n",
    "    def clean_side(self, side_num):\n",
    "        side =  self.left_side if side_num ==0 else self.right_side\n",
    "        self.clean_up()\n",
    "         \n",
    "\n",
    "\n",
    "    def kill_card(self, card):\n",
    "        side = None\n",
    "        side_num=-1\n",
    "        not_found= False\n",
    "        if card in self.left_side:\n",
    "            side = self.left_side\n",
    "            side_num = 0\n",
    "        elif card in self.right_side:\n",
    "            side = self.right_side\n",
    "            side_num = 1\n",
    "        else:\n",
    "            not_found = True\n",
    "        if not not_found:\n",
    "            card.swangsong(self,side_num)\n",
    "            if card in side:\n",
    "                side.remove(card)\n",
    "\n",
    "    def clean_up(self):\n",
    "        for card in self.left_side:\n",
    "            if card.is_dead:\n",
    "                self.left_side.remove(card)\n",
    "        for card in self.right_side:\n",
    "            if card.is_dead:\n",
    "                self.right_side.remove(card)\n",
    "\n",
    "\n",
    "\n",
    "    def perfomance(self):\n",
    "        left_card = self.left_side[0]\n",
    "        right_card = self.right_side[0]\n",
    "        left_card.performance(self)\n",
    "        right_card.performance(self)\n",
    "\n",
    "        right_attack = right_card.stat\n",
    "        left_attack = left_card.stat\n",
    "        left_card.take_damage(right_attack)\n",
    "        right_card.take_damage(left_attack)\n",
    "        if left_card.is_dead:\n",
    "            self.kill_card(left_card)\n",
    "        #right card might have died as a result of swangsong    \n",
    "        if right_card.is_dead and right_card in self.right_side:\n",
    "            self.kill_card(right_card)\n",
    "        self.clean_up()\n",
    "\n",
    "    def __str__(self):\n",
    "        lc ='EMPTY' if len(self.left_side) == 0 else  str(self.left_side[0])\n",
    "        rc ='EMPTY' if len(self.right_side) == 0 else  str(self.right_side[0])\n",
    "\n",
    "        res = lc + '|||' + rc\n",
    "        return res\n",
    "        \n"
   ]
  },
  {
   "cell_type": "code",
   "execution_count": 55,
   "metadata": {},
   "outputs": [],
   "source": [
    "class GameEngine():\n",
    "    def __init__(self, first_hand,second_hand,stats):\n",
    "        self.board_state = BoardState()\n",
    "        self.left_cards = []\n",
    "        self.right_cards = []\n",
    "        for card_num in first_hand:\n",
    "            card = BoardState.create_card(stats[card_num][0],stats[card_num][1],stats[card_num][2])\n",
    "            self.left_cards.append(card)\n",
    "        \n",
    "        for card_num in second_hand:\n",
    "            card = BoardState.create_card(stats[card_num][0],stats[card_num][1],stats[card_num][2])\n",
    "            self.right_cards.append(card)\n",
    "        \n",
    "        self.current_phaze = 0\n",
    "\n",
    "    def return_winner(self):\n",
    "        if len(self.board_state.left_side) > len(self.board_state.right_side):\n",
    "            return -1 #left winner \n",
    "        elif len(self.board_state.left_side) < len(self.board_state.right_side):\n",
    "            return 1 #right winner\n",
    "        else:\n",
    "            return 0 #draw\n",
    "    \n",
    "    def main_loop(self):\n",
    "\n",
    "        game_over = False\n",
    "\n",
    "        while not game_over:\n",
    "            logger.debug(\"---new round---\")\n",
    "            logger.debug(\"--initial ---\" + str(self.board_state))\n",
    "            fight_worthy = self.board_state.left_count() > 0 and self.board_state.right_count() > 0\n",
    "            enough_draw = len(self.left_cards)>0 and len(self.right_cards)>0\n",
    "            if not enough_draw and not fight_worthy:\n",
    "                game_over = True\n",
    "                break\n",
    "            if self.current_phaze == 0:\n",
    "                logger.debug(\"---phaze 0---\")\n",
    "            \n",
    "                if  enough_draw:\n",
    "                    cardL = self.left_cards.pop()\n",
    "                    self.board_state.add_card(cardL,0)\n",
    "\n",
    "                    cardR = self.right_cards.pop()\n",
    "                    self.board_state.add_card(cardR,1)\n",
    "\n",
    "                self.current_phaze=1\n",
    "            \n",
    "            logger.debug(\"--play ---\" + str(self.board_state))\n",
    "\n",
    "            if self.current_phaze==1:\n",
    "                self.board_state.perfomance()\n",
    "                self.current_phaze = 0\n",
    "            \n",
    "            logger.debug(\"--after ---\" + str(self.board_state))\n",
    "            "
   ]
  },
  {
   "cell_type": "code",
   "execution_count": 57,
   "metadata": {},
   "outputs": [
    {
     "name": "stderr",
     "output_type": "stream",
     "text": [
      "2022-04-04 20:53:16,605 - __main__ - DEBUG - ---new round---\n",
      "2022-04-04 20:53:16,607 - __main__ - DEBUG - --initial ---EMPTY|||EMPTY\n",
      "2022-04-04 20:53:16,608 - __main__ - DEBUG - ---phaze 0---\n",
      "2022-04-04 20:53:16,609 - __main__ - DEBUG - --play ---intial 3| current3|suit 0| ability BasicAbility|||intial 2| current2|suit 1| ability BasicAbility\n",
      "2022-04-04 20:53:16,610 - __main__ - DEBUG - --after ---intial 3| current1|suit 0| ability BasicAbility|||EMPTY\n",
      "2022-04-04 20:53:16,611 - __main__ - DEBUG - ---new round---\n",
      "2022-04-04 20:53:16,612 - __main__ - DEBUG - --initial ---intial 3| current1|suit 0| ability BasicAbility|||EMPTY\n",
      "2022-04-04 20:53:16,613 - __main__ - DEBUG - ---phaze 0---\n",
      "2022-04-04 20:53:16,615 - __main__ - DEBUG - --play ---intial 2| current2|suit 0| ability BasicAbility|||intial 1| current1|suit 1| ability TokenAbility\n",
      "2022-04-04 20:53:16,616 - __main__ - DEBUG - --after ---intial 2| current1|suit 0| ability BasicAbility|||intial 1| current1|suit 1| ability BasicAbility\n",
      "2022-04-04 20:53:16,617 - __main__ - DEBUG - ---new round---\n",
      "2022-04-04 20:53:16,618 - __main__ - DEBUG - --initial ---intial 2| current1|suit 0| ability BasicAbility|||intial 1| current1|suit 1| ability BasicAbility\n",
      "2022-04-04 20:53:16,622 - __main__ - DEBUG - ---phaze 0---\n",
      "2022-04-04 20:53:16,622 - __main__ - DEBUG - --play ---intial 2| current1|suit 0| ability BasicAbility|||intial 1| current1|suit 1| ability BasicAbility\n",
      "2022-04-04 20:53:16,623 - __main__ - DEBUG - --after ---EMPTY|||EMPTY\n",
      "2022-04-04 20:53:16,624 - __main__ - DEBUG - ---new round---\n",
      "2022-04-04 20:53:16,625 - __main__ - DEBUG - --initial ---EMPTY|||EMPTY\n"
     ]
    },
    {
     "data": {
      "text/plain": [
       "0"
      ]
     },
     "execution_count": 57,
     "metadata": {},
     "output_type": "execute_result"
    }
   ],
   "source": [
    "stats ={\n",
    "    0:[1,0,0],\n",
    "    1:[2,0,0],\n",
    "    2:[3,0,0],\n",
    "    3:[4,0,0],\n",
    "    4:[1,2,1],\n",
    "    5:[2,0,1],\n",
    "    6:[3,0,1],\n",
    "    7:[4,0,1],\n",
    "}\n",
    "\n",
    "ge = GameEngine((1,2),(4,5),stats)\n",
    "ge.main_loop()\n",
    "ge.return_winner()"
   ]
  },
  {
   "cell_type": "code",
   "execution_count": 36,
   "metadata": {},
   "outputs": [],
   "source": [
    "for d in all_deals:\n",
    "    lh = random.sample(d[0],2)\n",
    "    rh = random.sample(d[1],2)\n",
    "    a = stats[lh[0]]\n",
    "    b = stats[rh[0]]\n",
    "    expected = 0\n",
    "    if a > b:\n",
    "        expected = -1\n",
    "    elif a<b:\n",
    "        expected = 1\n",
    "    ge = GameEngine(lh,rh,stats)\n",
    "    ge.main_loop()\n",
    "    res = ge.return_winner()\n",
    "    if res!=expected:\n",
    "        print(lh,rh)\n",
    "    else: \n",
    "        print(res)\n",
    "    "
   ]
  },
  {
   "cell_type": "code",
   "execution_count": null,
   "metadata": {},
   "outputs": [],
   "source": []
  },
  {
   "cell_type": "code",
   "execution_count": null,
   "metadata": {},
   "outputs": [],
   "source": []
  },
  {
   "cell_type": "code",
   "execution_count": null,
   "metadata": {},
   "outputs": [],
   "source": []
  }
 ],
 "metadata": {
  "interpreter": {
   "hash": "b80f2a8a880b2f91b51cb687c4356216eba3e331e268ca6b2338650bf19e8f88"
  },
  "kernelspec": {
   "display_name": "Python 3.9.7 ('myspiel')",
   "language": "python",
   "name": "python3"
  },
  "language_info": {
   "codemirror_mode": {
    "name": "ipython",
    "version": 3
   },
   "file_extension": ".py",
   "mimetype": "text/x-python",
   "name": "python",
   "nbconvert_exporter": "python",
   "pygments_lexer": "ipython3",
   "version": "3.9.11"
  },
  "orig_nbformat": 4
 },
 "nbformat": 4,
 "nbformat_minor": 2
}
